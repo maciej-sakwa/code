{
 "cells": [
  {
   "cell_type": "code",
   "execution_count": 78,
   "metadata": {},
   "outputs": [],
   "source": [
    "import pandas as pd\n",
    "import numpy as np\n",
    "\n",
    "import matplotlib.pyplot as plt\n",
    "plt.style.use('seaborn-v0_8')\n",
    "\n",
    "import pickle\n",
    "\n",
    "from pathlib import Path"
   ]
  },
  {
   "cell_type": "code",
   "execution_count": 2,
   "metadata": {},
   "outputs": [],
   "source": [
    "DATA_PATH = Path('/media/maciej/Volume/data/002_pd')"
   ]
  },
  {
   "cell_type": "code",
   "execution_count": 16,
   "metadata": {},
   "outputs": [],
   "source": [
    "paths = list(DATA_PATH.glob('*.data'))"
   ]
  },
  {
   "cell_type": "code",
   "execution_count": 39,
   "metadata": {},
   "outputs": [],
   "source": [
    "with open(paths[0], 'rb') as file:\n",
    "    data = pd.read_pickle(file)\n",
    "    df = data[0]\n",
    "    signals = data[1]"
   ]
  },
  {
   "cell_type": "code",
   "execution_count": 41,
   "metadata": {},
   "outputs": [
    {
     "data": {
      "text/plain": [
       "row_id\n",
       "4    909\n",
       "1     97\n",
       "3     68\n",
       "2     32\n",
       "Name: count, dtype: int64"
      ]
     },
     "execution_count": 41,
     "metadata": {},
     "output_type": "execute_result"
    }
   ],
   "source": [
    "df.groupby('inst_id')['row_id'].count().value_counts()"
   ]
  },
  {
   "cell_type": "code",
   "execution_count": 81,
   "metadata": {},
   "outputs": [],
   "source": [
    "def onset_detection_fun(signal_ar, #save=False,\n",
    "                        window_length=500, window_step=5, sample_start_search=500, sample_end_search=2000,\n",
    "                        onset_threshold=0.1, number_extracted_samples=625, energy_gap=250):\n",
    "\n",
    "    # Cycle over all the available events\n",
    "    for x in range(len(signal_ar)):\n",
    "        # Extract a signal at every iteration\n",
    "        signal = signal_ar[x].astype(np.int64)\n",
    "        # Extract the pulse samples in the selected interval for onset detection (between sample_start_search and sample_end_search)\n",
    "        signal_range = signal[sample_start_search:sample_end_search]\n",
    "        # Extract the pulse samples in an interval which is required for HOS moments calculation\n",
    "        signal_range_hos = signal[(sample_start_search - window_length + 1):sample_end_search]\n",
    "        # Define empty lists storing, for each event, the statistic moments values computed on all the the time windows\n",
    "        s1 = []\n",
    "        s2 = []\n",
    "        s6 = []\n",
    "        # High order statistic moments calculation for each time window\n",
    "        for xx in range(int(len(signal_range) / window_step)):\n",
    "            # Compute the time window limits as function of the iterative step\n",
    "            begin_window = int(xx * window_step)\n",
    "            end_window = int(xx * window_step + window_length)\n",
    "            # Extract the waveform contained in the moving windows for a specific iterative step\n",
    "            wave = signal_range_hos[begin_window:end_window]\n",
    "            # First statistic moment (mean) calculation\n",
    "            s1.append(np.mean(wave))\n",
    "            # Second statistic moment (variance) calculation\n",
    "            s2.append(np.sum((wave - s1[xx]) ** 2) / (window_length - 1))\n",
    "            # Sixth statistic (S6) moment calculation\n",
    "            s6.append(np.sum((wave - s1[xx]) ** 6) / ((window_length - 1) * (s2[xx] ** 3)) - 15)\n",
    "        # Calculation of the derivative of the sixth statistic moment (dS6)\n",
    "        ds6 = np.gradient(s6)\n",
    "        # Compute the threshold for pulse onset detection (equal to a given percentage of the maximum value of ds6)\n",
    "        threshold = onset_threshold * np.nanmax(ds6)\n",
    "        # Identify all the samples that are above the threshold\n",
    "        onset_index_ds6 = np.where(abs(ds6) >= threshold)[0].astype(np.int16)\n",
    "        # Define an empty array for storage of the sign of each identified sample\n",
    "        onset_sign = np.empty(len(onset_index_ds6))\n",
    "        # Iterate over the identified samples to find crossings\n",
    "        # For crossing the product of (sample_value_n - threshold)*(sample_value_(n-1) - threshold) is negative\n",
    "        for xx in range(len(onset_index_ds6)):\n",
    "            onset_sign[xx] = (ds6[onset_index_ds6[xx]] - threshold) * (ds6[onset_index_ds6[xx] - 1] - threshold)\n",
    "        # For crossing the sample is passed, else the 0 value is passed (or the sample_start_search value)\n",
    "        onset_indices = (np.where(np.sign(onset_sign) == -1, onset_index_ds6, 0) * window_step) + sample_start_search\n",
    "        # Indexes with value of 0 (or the sample_start_search value) are cut\n",
    "        onset_indices = onset_indices[np.where(onset_indices > sample_start_search)]\n",
    "        # Definition of the empty SNR list\n",
    "        onset_ratios = []\n",
    "        # Iterate over the crossings to calculate the SNR of each crossing\n",
    "        for xx in range(len(onset_indices)):\n",
    "            potential_onset = onset_indices[xx]\n",
    "            pre_onset = np.sum(signal[(potential_onset - energy_gap): potential_onset] ** 2)\n",
    "            post_onset = np.sum(signal[potential_onset: (potential_onset + energy_gap)] ** 2)\n",
    "            SN_ratio = post_onset / pre_onset\n",
    "            onset_ratios.append(SN_ratio)\n",
    "        # The crossing with the highest SNR is identified as the onset\n",
    "        onset_index = onset_indices[np.argmax(np.array(onset_ratios))]\n",
    "\n",
    "        # Define the number of samples to be extracted after pulse onset (set in code options)\n",
    "        num_samples = number_extracted_samples\n",
    "        # Extraction of first num_samples samples after pulse onset\n",
    "        waveform_from_onset = signal[(onset_index):(onset_index + num_samples)]\n",
    "        # Add the extracted waveform and the onset index to the previously defined lists\n",
    "        signal_extracted.append(waveform_from_onset)\n",
    "        onset_picked.append(onset_index)\n",
    "\n",
    "\n",
    "\n",
    "    # if save:    # If save is True the feature file is saved\n",
    "    #     with open('./features/onset_' + case, 'wb') as file:\n",
    "    #         pickle.dump(signal_extracted, file, protocol=pickle.HIGHEST_PROTOCOL)\n",
    "    #     print('Features saved.')\n",
    "\n",
    "    return signal_extracted, onset_picked, ds6"
   ]
  },
  {
   "cell_type": "code",
   "execution_count": 92,
   "metadata": {},
   "outputs": [],
   "source": [
    "# Params\n",
    "window_length=500\n",
    "window_step=5\n",
    "\n",
    "begin_sample = 500\n",
    "end_sample = 2000\n",
    "search_interval = slice(begin_sample, end_sample)\n",
    "\n",
    "onset_threshold=0.1\n",
    "number_extracted_samples=625\n",
    "energy_gap=250"
   ]
  },
  {
   "cell_type": "code",
   "execution_count": 159,
   "metadata": {},
   "outputs": [],
   "source": [
    "class OnsetDetection():\n",
    "    def __init__(self, window = 500, step = 10, interval = (500, 2000), threshold=0.1) -> None:\n",
    "        self.window = window\n",
    "        self.step = step\n",
    "\n",
    "        assert len(interval) == 2, 'The length of interval should be 2'\n",
    "        self.begin, self.end = interval\n",
    "        self.range = (self.end - self.begin) // self.step\n",
    "        self.threshold = threshold\n",
    "\n",
    "    def get_s6(self, signal: np.array) -> np.array:\n",
    "\n",
    "        signal = np.asarray(signal)\n",
    "\n",
    "        signal_slice = slice((self.begin - self.window + 1), self.end)\n",
    "        signal_range = signal[signal_slice]\n",
    "\n",
    "        # Define empty lists storing\n",
    "        signal_s6_out = np.zeros(self.range)\n",
    "\n",
    "        # High order statistic moments calculation for each time window\n",
    "        for i in range(self.range):\n",
    "\n",
    "            # Compute the time window limits as function of the iterative step\n",
    "            begin_window = int(i * self.step)\n",
    "            end_window = int(i * self.step + self.window)\n",
    "\n",
    "            # Extract the waveform contained in the moving windows for a specific iterative step\n",
    "            wave = signal_range[begin_window:end_window]\n",
    "            signal_s1 = np.mean(wave)\n",
    "            signal_s2 = np.var(wave)\n",
    "\n",
    "            # Sixth statistic (S6) moment calculation\n",
    "            signal_s6 = np.sum((wave - signal_s1) ** 6) / ((self.window - 1) * (signal_s2 ** 3))\n",
    "            signal_s6_out[i] = (signal_s6 - 15)\n",
    "        \n",
    "        return signal_s6_out\n",
    "    \n",
    "\n",
    "    def _first_positive_index(self, x):\n",
    "        # Ensure the input is a numpy array\n",
    "        x = np.asarray(x)\n",
    "        \n",
    "        # Use boolean indexing to find where the values are positive\n",
    "        positive_indices = np.where(x > 0)[0]\n",
    "        \n",
    "        # Check if there is any positive value\n",
    "        if positive_indices.size == 0:\n",
    "            raise ValueError('No positive values in the array')\n",
    "        \n",
    "        # Return the index of the first positive value\n",
    "        return positive_indices[0]\n",
    "    \n",
    "    def _grad_and_level(self, x):\n",
    "\n",
    "        # Ensure the input is a numpy array\n",
    "        x = np.asarray(x)\n",
    "\n",
    "        x_grad = np.abs(np.gradient(x))\n",
    "        \n",
    "        # Normalize\n",
    "        x_grad /= np.max(x_grad) \n",
    "\n",
    "        # Level with threshold\n",
    "        x_grad -= self.threshold\n",
    "\n",
    "        return x_grad\n",
    "        \n"
   ]
  },
  {
   "cell_type": "code",
   "execution_count": 160,
   "metadata": {},
   "outputs": [],
   "source": [
    "od = OnsetDetection()\n",
    "test = od.get_s6(signal=signals[0])"
   ]
  },
  {
   "cell_type": "code",
   "execution_count": 162,
   "metadata": {},
   "outputs": [],
   "source": [
    "grad = od._grad_and_level(test)\n",
    "id = od._first_positive_index(grad)"
   ]
  },
  {
   "cell_type": "code",
   "execution_count": 163,
   "metadata": {},
   "outputs": [
    {
     "data": {
      "text/plain": [
       "<matplotlib.lines.Line2D at 0x725c610e08e0>"
      ]
     },
     "execution_count": 163,
     "metadata": {},
     "output_type": "execute_result"
    },
    {
     "data": {
      "image/png": "[encoded data removed]",
      "text/plain": [
       "<Figure size 800x550 with 1 Axes>"
      ]
     },
     "metadata": {},
     "output_type": "display_data"
    }
   ],
   "source": [
    "grad = np.abs(np.gradient(test)) \n",
    "plt.plot(grad / np.max(grad))\n",
    "plt.axhline(0.1)\n",
    "plt.axvline(id)"
   ]
  }
 ],
 "metadata": {
  "kernelspec": {
   "display_name": "ms_tf",
   "language": "python",
   "name": "python3"
  },
  "language_info": {
   "codemirror_mode": {
    "name": "ipython",
    "version": 3
   },
   "file_extension": ".py",
   "mimetype": "text/x-python",
   "name": "python",
   "nbconvert_exporter": "python",
   "pygments_lexer": "ipython3",
   "version": "3.1.undefined"
  }
 },
 "nbformat": 4,
 "nbformat_minor": 2
}
