{
 "cells": [
  {
   "cell_type": "markdown",
   "metadata": {},
   "source": [
    "# Imports and preprocessing"
   ]
  },
  {
   "cell_type": "code",
   "execution_count": 1,
   "metadata": {},
   "outputs": [],
   "source": [
    "import os\n",
    "\n",
    "import numpy as np\n",
    "import pandas as pd\n",
    "import matplotlib.pyplot as plt\n",
    "\n",
    "from pathlib import Path\n",
    "from tqdm.notebook import tqdm_notebook\n",
    "\n",
    "from src.onset_detection import OnsetDetection"
   ]
  },
  {
   "cell_type": "markdown",
   "metadata": {},
   "source": [
    "Load data"
   ]
  },
  {
   "cell_type": "code",
   "execution_count": 2,
   "metadata": {},
   "outputs": [],
   "source": [
    "DATA_PATH = Path('./data/')\n",
    "\n",
    "df_description = pd.DataFrame()\n",
    "signals = None\n",
    "\n",
    "\n",
    "for i, path in enumerate(sorted(DATA_PATH.glob('*.data'))):\n",
    "    with open(path, 'rb') as file:\n",
    "        loaded = pd.read_pickle(file)\n",
    "\n",
    "        loaded_description = loaded[0]\n",
    "        loaded_description['class'] = i+1\n",
    "        loaded_signals = loaded[1]\n",
    "\n",
    "        df_description = pd.concat([df_description, loaded_description], ignore_index=True)\n",
    "        if signals is None: \n",
    "            signals = loaded_signals\n",
    "        else: \n",
    "            signals = np.concat([signals, loaded_signals])"
   ]
  },
  {
   "cell_type": "markdown",
   "metadata": {},
   "source": [
    "Onset detection"
   ]
  },
  {
   "cell_type": "code",
   "execution_count": 3,
   "metadata": {},
   "outputs": [
    {
     "data": {
      "application/vnd.jupyter.widget-view+json": {
       "model_id": "7673866a7b1b4cb9b35cfdb57ee2cee4",
       "version_major": 2,
       "version_minor": 0
      },
      "text/plain": [
       "  0%|          | 0/32008 [00:00<?, ?it/s]"
      ]
     },
     "metadata": {},
     "output_type": "display_data"
    }
   ],
   "source": [
    "out_size = 512\n",
    "od = OnsetDetection(window_step=10, out_length=out_size, downsampling=2)\n",
    "short_signals = np.empty((len(signals), 256))\n",
    "\n",
    "for i in tqdm_notebook(range(len(signals))):\n",
    "    \n",
    "\n",
    "    _, short_sig = od(signals[i])\n",
    "\n",
    "    short_signals[i, :] = short_sig"
   ]
  },
  {
   "cell_type": "markdown",
   "metadata": {},
   "source": [
    "### Time-frequency tests"
   ]
  },
  {
   "cell_type": "code",
   "execution_count": 4,
   "metadata": {},
   "outputs": [
    {
     "data": {
      "text/plain": [
       "(65, 167)"
      ]
     },
     "execution_count": 4,
     "metadata": {},
     "output_type": "execute_result"
    },
    {
     "data": {
      "image/png": "[encoded data removed]",
      "text/plain": [
       "<Figure size 640x480 with 1 Axes>"
      ]
     },
     "metadata": {},
     "output_type": "display_data"
    }
   ],
   "source": [
    "from scipy.signal import ShortTimeFFT\n",
    "from scipy.signal.windows import gaussian\n",
    "\n",
    "# Step 1: Generate a sample signal\n",
    "signal = signals[0][::2]\n",
    "signal = signal / np.max(signal) \n",
    "\n",
    "fs = 4*1e9  # Sampling frequency\n",
    "t = np.arange(len(signal)) / fs  # Time vector\n",
    "\n",
    "w = gaussian(128, std=16, sym=True)  # symmetric Gaussian window\n",
    "\n",
    "# A sample signal: sum of two sine waves with different frequencies\n",
    "\n",
    "\n",
    "# Step 2: Compute the Short-Time Fourier Transform (STFT)\n",
    "STF = ShortTimeFFT(w, hop=16, fs=fs, scale_to='psd')\n",
    "Sx = STF.spectrogram(signal)\n",
    "\n",
    "#Sx = 10 * np.log10(np.fmax(Sx, 1e-10))  # limit range to -40 dB\n",
    "\n",
    "im1 = plt.imshow(Sx, origin='lower', cmap='jet')\n",
    "# # Step 3: Plot the STFT magnitude\n",
    "# plt.figure(figsize=(10, 6))\n",
    "# plt.pcolormesh(t, f, np.abs(Zxx), shading='gouraud')\n",
    "# plt.title('STFT Magnitude')\n",
    "# plt.ylabel('Frequency [Hz]')\n",
    "# plt.xlabel('Time [sec]')\n",
    "# plt.colorbar(label='Magnitude')\n",
    "# plt.show()\n",
    "\n",
    "Sx.shape"
   ]
  },
  {
   "cell_type": "code",
   "execution_count": 13,
   "metadata": {},
   "outputs": [],
   "source": [
    "from sklearn.preprocessing import StandardScaler\n",
    "\n",
    "scaler = StandardScaler()\n",
    "\n",
    "X_scaled = scaler.fit_transform(short_signals)\n",
    "y = df_description['class'].values"
   ]
  },
  {
   "cell_type": "markdown",
   "metadata": {},
   "source": [
    "# Model setup"
   ]
  },
  {
   "cell_type": "markdown",
   "metadata": {},
   "source": [
    "## Dataset definition"
   ]
  },
  {
   "cell_type": "code",
   "execution_count": 49,
   "metadata": {},
   "outputs": [],
   "source": [
    "def stratified_train_test_split(X, y=None, ratio=0.8):\n",
    "    # Classes are put one after another, normal train-test split wont work.\n",
    "    # NONRANDOM\n",
    "\n",
    "    X = np.asarray(X)\n",
    "    y = np.asarray(y)\n",
    "\n",
    "    # Define vars\n",
    "    int_ratio = int(1 / (1 - ratio))\n",
    "    int_len_X = int(len(X))\n",
    "    \n",
    "    test_indices = np.arange(0, int_len_X, int_ratio)\n",
    "\n",
    "    # Get boolean indexing\n",
    "    train_boolean = [False if i in test_indices else True for i in range(int_len_X)]\n",
    "    test_boolean = [not i for i in train_boolean]\n",
    "\n",
    "    if y is not None:\n",
    "        return X[train_boolean], y[train_boolean], X[test_boolean], y[test_boolean]\n",
    "\n",
    "    return X[train_boolean], X[test_boolean]"
   ]
  },
  {
   "cell_type": "code",
   "execution_count": 50,
   "metadata": {},
   "outputs": [],
   "source": [
    "X_train, y_train, X_test, y_test = stratified_train_test_split(X_scaled, y, 0.8)\n",
    "X_train, y_train, X_val, y_val = stratified_train_test_split(X_train, y_train, 0.8)"
   ]
  },
  {
   "cell_type": "code",
   "execution_count": 76,
   "metadata": {},
   "outputs": [
    {
     "name": "stdout",
     "output_type": "stream",
     "text": [
      "Using cuda device\n"
     ]
    }
   ],
   "source": [
    "import torch\n",
    "from torch.utils.data import Dataset, DataLoader\n",
    "\n",
    "\n",
    "device = (\n",
    "    \"cuda\"\n",
    "    if torch.cuda.is_available()\n",
    "    else \"mps\"\n",
    "    if torch.backends.mps.is_available()\n",
    "    else \"cpu\"\n",
    ")\n",
    "print(f\"Using {device} device\")"
   ]
  },
  {
   "cell_type": "code",
   "execution_count": 91,
   "metadata": {},
   "outputs": [],
   "source": [
    "class PDDataset(Dataset):\n",
    "    def __init__(self, X, y, transform = None):\n",
    "        self.signals = X\n",
    "        self.labels = y\n",
    "        self.transform = transform\n",
    "\n",
    "    def __len__(self):\n",
    "        return len(self.labels)\n",
    "    \n",
    "    def __getitem__(self, index):\n",
    "        \n",
    "        signal = self.signals[index].astype(np.float32)\n",
    "        label = self.labels[index]\n",
    "\n",
    "        if self.transform:\n",
    "            signal = self.transform(signal)\n",
    "\n",
    "        return signal, label"
   ]
  },
  {
   "cell_type": "code",
   "execution_count": 92,
   "metadata": {},
   "outputs": [],
   "source": [
    "train_dataset = PDDataset(X_train, y_train)\n",
    "test_dataset = PDDataset(X_test, y_test)\n",
    "val_dataset = PDDataset(X_val, y_val)\n",
    "\n",
    "train_dataloader = DataLoader(train_dataset, batch_size=64, shuffle=True)\n",
    "test_dataloader = DataLoader(test_dataset, batch_size=64, shuffle=True)\n",
    "val_dataset = DataLoader(val_dataset, batch_size=64, shuffle=True)"
   ]
  },
  {
   "cell_type": "code",
   "execution_count": 93,
   "metadata": {},
   "outputs": [
    {
     "name": "stdout",
     "output_type": "stream",
     "text": [
      "Feature batch shape: torch.Size([64, 256])\n",
      "Labels batch shape: torch.Size([64])\n"
     ]
    },
    {
     "data": {
      "image/png": "[encoded data removed]",
      "text/plain": [
       "<Figure size 640x480 with 1 Axes>"
      ]
     },
     "metadata": {},
     "output_type": "display_data"
    },
    {
     "name": "stdout",
     "output_type": "stream",
     "text": [
      "Label: 8\n"
     ]
    }
   ],
   "source": [
    "# TEST\n",
    "\n",
    "train_features, train_labels = next(iter(train_dataloader))\n",
    "print(f\"Feature batch shape: {train_features.size()}\")\n",
    "print(f\"Labels batch shape: {train_labels.size()}\")\n",
    "\n",
    "\n",
    "signal = train_features[0].squeeze()\n",
    "label = train_labels[0]\n",
    "plt.plot(signal)\n",
    "plt.show()\n",
    "print(f\"Label: {label}\")"
   ]
  },
  {
   "cell_type": "markdown",
   "metadata": {},
   "source": [
    "## Model Definition"
   ]
  },
  {
   "cell_type": "code",
   "execution_count": 94,
   "metadata": {},
   "outputs": [],
   "source": [
    "class ArtNeuralNetwork(torch.nn.Module):\n",
    "    def __init__(self, input_shape, label_shape):\n",
    "        super().__init__()\n",
    "        self.flatten = torch.nn.Flatten()\n",
    "        self.linear_stack = torch.nn.Sequential(\n",
    "            torch.nn.Linear(input_shape[1], 256),\n",
    "            torch.nn.ReLU(), \n",
    "            torch.nn.Linear(256, 256),\n",
    "            torch.nn.ReLU(),\n",
    "            torch.nn.Linear(256, label_shape)\n",
    "        )\n",
    "\n",
    "    def forward(self, x):\n",
    "        x = self.flatten(x)\n",
    "        logits = self.linear_stack(x)\n",
    "        return logits\n",
    "    \n"
   ]
  },
  {
   "cell_type": "code",
   "execution_count": 95,
   "metadata": {},
   "outputs": [
    {
     "name": "stdout",
     "output_type": "stream",
     "text": [
      "ArtNeuralNetwork(\n",
      "  (flatten): Flatten(start_dim=1, end_dim=-1)\n",
      "  (linear_stack): Sequential(\n",
      "    (0): Linear(in_features=256, out_features=256, bias=True)\n",
      "    (1): ReLU()\n",
      "    (2): Linear(in_features=256, out_features=256, bias=True)\n",
      "    (3): ReLU()\n",
      "    (4): Linear(in_features=256, out_features=8, bias=True)\n",
      "  )\n",
      ")\n"
     ]
    }
   ],
   "source": [
    "model = ArtNeuralNetwork(train_features.size(), len(np.unique(y)))\n",
    "model.to(device)\n",
    "print(model)"
   ]
  },
  {
   "cell_type": "code",
   "execution_count": 97,
   "metadata": {},
   "outputs": [
    {
     "data": {
      "text/plain": [
       "tensor([[-3.9486e-01,  2.5598e-01, -9.4462e-02, -1.7966e-01,  2.5544e-03,\n",
       "          2.4343e-01,  9.7246e-02,  1.1654e-01],\n",
       "        [-5.8086e-02, -2.6271e-02,  1.4707e-03, -1.9406e-02,  2.0245e-03,\n",
       "         -4.6912e-02,  2.7839e-02,  7.3207e-02],\n",
       "        [-6.3854e-02, -3.1604e-02,  4.9140e-02, -3.0362e-02,  4.6314e-03,\n",
       "         -7.7486e-02,  1.0710e-02,  5.0394e-02],\n",
       "        [-7.5249e-02, -2.2909e-02,  4.9403e-02, -1.9749e-03,  2.1609e-02,\n",
       "         -4.0777e-02,  1.4845e-02,  5.5098e-02],\n",
       "        [-5.7971e-02, -1.9731e-02,  4.9114e-02, -1.8808e-03,  1.2913e-02,\n",
       "         -6.5092e-02,  9.1666e-03,  5.8989e-02],\n",
       "        [-6.2751e-02, -3.4017e-02,  3.7548e-02, -1.3155e-02,  1.2792e-02,\n",
       "         -5.5720e-02,  8.3174e-03,  6.2955e-02],\n",
       "        [-7.5248e-02, -3.9070e-02,  4.4744e-02, -1.6789e-02,  4.5077e-04,\n",
       "         -5.7217e-02,  2.1016e-02,  5.2864e-02],\n",
       "        [-6.1330e-02, -3.3638e-02,  3.9949e-02, -1.5427e-02,  1.8435e-02,\n",
       "         -6.3568e-02,  1.8390e-02,  5.1345e-02],\n",
       "        [-6.1192e-02, -2.8481e-02,  4.6323e-02, -5.7391e-03,  1.6719e-02,\n",
       "         -5.8664e-02,  1.4931e-02,  5.4121e-02],\n",
       "        [-6.0520e-02, -1.9669e-02,  5.1829e-02,  4.2658e-03,  2.3650e-02,\n",
       "         -5.2958e-02,  2.4968e-02,  5.7542e-02],\n",
       "        [-6.0592e-02, -3.4370e-02,  4.0746e-02, -1.5075e-02,  2.7061e-02,\n",
       "         -6.2241e-02,  1.0771e-02,  5.5110e-02],\n",
       "        [-6.2940e-02, -2.7255e-02,  4.7067e-02, -1.1579e-02,  1.5042e-02,\n",
       "         -6.5650e-02,  9.8193e-03,  5.9068e-02],\n",
       "        [-1.1830e-01, -3.1040e-04,  2.4073e-02, -1.8184e-02,  3.8195e-02,\n",
       "         -1.1174e-01,  3.0152e-02,  1.2594e-01],\n",
       "        [-6.0693e-02, -2.7052e-02,  4.4957e-02, -9.7816e-03,  2.2399e-02,\n",
       "         -6.7912e-02,  7.6909e-03,  6.1762e-02],\n",
       "        [-6.1686e-02, -4.1137e-02,  5.2165e-02, -1.6689e-02,  1.2911e-02,\n",
       "         -6.2976e-02,  1.8481e-02,  5.9606e-02],\n",
       "        [-5.8852e-02, -3.3409e-02,  4.5168e-02, -1.3956e-04,  1.8935e-02,\n",
       "         -5.9591e-02,  1.4263e-02,  5.4658e-02],\n",
       "        [-3.0763e-01,  1.9019e-01,  4.3250e-02, -4.7549e-01,  4.7505e-01,\n",
       "         -3.2798e-01,  2.7804e-01,  9.7103e-01],\n",
       "        [-6.0582e-02, -3.1438e-02,  4.0485e-02, -8.0268e-03,  2.2733e-02,\n",
       "         -6.0536e-02,  7.5432e-03,  5.2491e-02],\n",
       "        [-6.2135e-02, -2.7698e-02,  5.1136e-02, -1.2656e-03,  8.5121e-03,\n",
       "         -5.2783e-02,  1.5510e-02,  5.6467e-02],\n",
       "        [-5.3537e-02, -2.8551e-02,  4.9418e-02, -6.2997e-03,  1.1607e-02,\n",
       "         -6.0135e-02,  9.8637e-03,  5.9666e-02],\n",
       "        [-6.0931e-02, -3.6089e-02,  4.5088e-02, -1.1709e-02,  1.5488e-02,\n",
       "         -5.8934e-02,  2.1266e-02,  6.7339e-02],\n",
       "        [-6.2466e-02, -1.4056e-02,  3.8372e-02, -7.6452e-03,  2.1263e-02,\n",
       "         -5.6510e-02,  1.0370e-02,  7.1289e-02],\n",
       "        [-4.7404e-01,  2.0696e-01,  1.6472e-01, -2.4884e-01,  1.5677e-01,\n",
       "          4.1986e-04,  4.2854e-02,  1.8432e-01],\n",
       "        [-7.6785e-02, -1.0900e-02,  6.0390e-02, -1.3859e-02,  3.9945e-03,\n",
       "         -4.5582e-02,  1.6976e-02,  5.3852e-02],\n",
       "        [-6.1244e-02, -3.1484e-02,  5.3221e-02, -3.2710e-03,  1.7673e-02,\n",
       "         -5.5232e-02,  1.4382e-02,  5.7888e-02],\n",
       "        [-6.2700e-02, -3.4840e-02,  5.1058e-02, -1.4242e-02,  2.0697e-02,\n",
       "         -5.4796e-02,  1.2576e-02,  6.2588e-02],\n",
       "        [-6.1117e-02, -2.5179e-02,  5.0313e-02, -1.1486e-02,  1.4713e-02,\n",
       "         -6.8086e-02,  1.3432e-02,  5.8302e-02],\n",
       "        [-6.3191e-02, -2.0830e-02,  3.5842e-02, -5.9553e-03,  1.6063e-02,\n",
       "         -5.1540e-02,  2.0156e-02,  6.6120e-02],\n",
       "        [-6.3950e-02, -2.2617e-02,  4.0760e-02, -8.1585e-03,  1.7471e-02,\n",
       "         -6.0737e-02, -1.2045e-03,  6.4894e-02],\n",
       "        [-2.2662e-01,  1.5937e-01, -2.6494e-03, -1.2918e-01, -1.0032e-01,\n",
       "          2.4135e-01,  6.0136e-02,  9.2432e-03],\n",
       "        [-6.3867e-02, -4.0080e-02,  5.1747e-02, -1.6360e-03,  2.3695e-02,\n",
       "         -4.6479e-02,  1.7918e-02,  5.3245e-02],\n",
       "        [-6.5873e-02, -3.3612e-02,  4.6905e-02, -1.5226e-02,  4.5273e-03,\n",
       "         -6.1692e-02,  1.4958e-02,  5.9180e-02],\n",
       "        [-5.8193e-02, -2.1514e-02,  4.5859e-02, -4.4343e-03,  1.4082e-02,\n",
       "         -4.6580e-02,  9.5529e-03,  6.1032e-02],\n",
       "        [-6.4276e-02, -3.7217e-02,  5.2129e-02, -1.1488e-02,  1.1652e-02,\n",
       "         -5.7218e-02,  1.9208e-02,  4.9585e-02],\n",
       "        [-6.1709e-02, -3.3690e-02,  4.8834e-02, -5.0175e-03,  9.6059e-03,\n",
       "         -5.8574e-02,  7.9969e-03,  6.4742e-02],\n",
       "        [-8.7589e-01,  1.8633e-01,  5.6220e-01, -1.0894e-01,  4.5778e-01,\n",
       "         -4.3546e-01,  2.6949e-01,  3.4879e-01],\n",
       "        [-3.6421e-01,  1.8846e-01,  7.9014e-02, -1.9859e-02,  2.4762e-01,\n",
       "          5.3595e-02, -9.0605e-03,  1.6588e-01],\n",
       "        [-5.6959e-02, -2.5715e-02,  5.1202e-02,  2.2961e-03,  7.1821e-03,\n",
       "         -3.2951e-02,  2.1316e-02,  5.5224e-02],\n",
       "        [-6.9991e-02, -3.0150e-02,  4.1127e-02, -1.2965e-02,  2.7115e-02,\n",
       "         -6.6648e-02,  1.8991e-02,  5.2478e-02],\n",
       "        [-4.8244e-01,  2.1413e-01, -1.1049e-01, -2.2658e-01,  4.2126e-02,\n",
       "          1.7410e-01,  2.7816e-02,  1.7007e-01],\n",
       "        [-7.0666e-02, -1.7843e-02,  4.2174e-02,  5.3036e-03,  2.5746e-02,\n",
       "         -5.8617e-02,  2.0395e-02,  5.3029e-02],\n",
       "        [-5.4933e-02, -2.4947e-02,  4.2509e-02,  2.9819e-04,  5.4949e-03,\n",
       "         -6.0230e-02,  8.0719e-03,  5.7947e-02],\n",
       "        [-5.9443e-02, -1.6117e-02,  4.0562e-02,  1.2743e-03,  2.2188e-02,\n",
       "         -6.1533e-02,  6.7617e-03,  5.8443e-02],\n",
       "        [-5.8442e-02, -2.7564e-02,  2.6295e-02,  4.9478e-03,  3.0478e-02,\n",
       "         -6.9343e-02,  4.9078e-03,  6.8597e-02],\n",
       "        [-5.9540e-02, -1.7119e-02,  4.1270e-02,  3.1321e-03,  2.6171e-02,\n",
       "         -5.6143e-02,  6.8951e-03,  6.4974e-02],\n",
       "        [-4.4222e-01,  1.9577e-01, -1.6466e-01, -4.5475e-01,  4.2977e-01,\n",
       "         -5.0647e-01,  2.3485e-01,  9.9643e-01],\n",
       "        [-5.1268e-02, -2.7361e-02,  4.7446e-02, -9.9834e-03,  7.6857e-03,\n",
       "         -5.3483e-02,  1.5817e-02,  5.5129e-02],\n",
       "        [-5.9054e-02, -2.5822e-02,  5.7635e-02, -1.0463e-02,  6.5014e-03,\n",
       "         -5.2646e-02,  7.6168e-03,  5.0454e-02],\n",
       "        [-1.0001e-01, -7.2939e-02,  5.0822e-02, -2.7816e-02,  2.6420e-02,\n",
       "         -6.6397e-02,  4.6987e-02,  6.6973e-02],\n",
       "        [-6.6733e-02, -3.4430e-02,  4.3485e-02, -3.3465e-03,  1.8460e-02,\n",
       "         -5.7281e-02,  1.1808e-02,  5.2396e-02],\n",
       "        [-5.7246e-02, -2.5392e-02,  5.6681e-02, -5.8896e-03,  1.9298e-02,\n",
       "         -5.9033e-02,  1.0592e-02,  5.7264e-02],\n",
       "        [-3.8806e-01,  8.1026e-02, -3.1589e-01,  1.5019e-01, -1.4624e-01,\n",
       "         -3.2014e-01, -1.3249e-01,  8.2322e-02],\n",
       "        [-4.6219e-01,  2.0050e-01,  7.6227e-02, -5.1909e-02,  2.4467e-01,\n",
       "          1.0994e-01,  7.7194e-02,  2.5383e-01],\n",
       "        [-6.0108e-02, -3.5966e-02,  4.5726e-02, -2.0089e-02,  1.6414e-02,\n",
       "         -6.5687e-02,  1.8030e-02,  6.3831e-02],\n",
       "        [-7.8212e-02, -3.0683e-02,  4.2379e-02, -1.5389e-02,  2.4245e-02,\n",
       "         -4.4703e-02,  2.5232e-02,  6.1215e-02],\n",
       "        [-6.8303e-02, -1.7446e-02,  4.5473e-02, -2.3368e-03,  1.4415e-02,\n",
       "         -5.6289e-02,  1.1944e-02,  5.8989e-02],\n",
       "        [-5.3854e-02, -2.7735e-02,  5.0430e-02,  3.6865e-03,  1.5112e-02,\n",
       "         -5.9194e-02,  1.5458e-02,  6.1512e-02],\n",
       "        [-6.9944e-02, -1.8264e-02,  3.1474e-02, -4.1656e-03,  2.6939e-02,\n",
       "         -6.5270e-02,  2.2780e-02,  5.2388e-02],\n",
       "        [-5.3317e-02, -3.6804e-02,  6.0427e-02, -1.5294e-02,  1.0441e-02,\n",
       "         -6.4844e-02,  1.6658e-02,  5.7365e-02],\n",
       "        [-5.4643e-02, -2.7624e-02,  4.4504e-02, -1.0588e-03,  1.7556e-02,\n",
       "         -5.0607e-02,  8.9671e-03,  5.9073e-02],\n",
       "        [-5.5695e-02, -3.1494e-02,  4.3408e-02, -4.1729e-03,  1.8718e-02,\n",
       "         -5.9623e-02,  7.4741e-03,  5.5334e-02],\n",
       "        [-6.0665e-02, -1.9012e-02,  4.0943e-02, -1.0761e-02,  9.1645e-03,\n",
       "         -4.6451e-02,  1.4681e-02,  6.8367e-02],\n",
       "        [-2.2775e-01,  1.5636e-01, -5.0263e-03, -1.2468e-01, -1.0373e-01,\n",
       "          2.3645e-01,  5.4754e-02,  1.4353e-02],\n",
       "        [-7.5177e-02, -2.4403e-02,  9.3140e-04, -1.9245e-02,  5.1834e-03,\n",
       "         -8.0641e-02,  8.8288e-02,  5.7484e-02]], device='cuda:0',\n",
       "       grad_fn=<AddmmBackward0>)"
      ]
     },
     "execution_count": 97,
     "metadata": {},
     "output_type": "execute_result"
    }
   ],
   "source": [
    "model(next(iter(train_dataloader))[0].to(device))"
   ]
  }
 ],
 "metadata": {
  "kernelspec": {
   "display_name": "test",
   "language": "python",
   "name": "python3"
  },
  "language_info": {
   "codemirror_mode": {
    "name": "ipython",
    "version": 3
   },
   "file_extension": ".py",
   "mimetype": "text/x-python",
   "name": "python",
   "nbconvert_exporter": "python",
   "pygments_lexer": "ipython3",
   "version": "3.10.14"
  }
 },
 "nbformat": 4,
 "nbformat_minor": 2
}
