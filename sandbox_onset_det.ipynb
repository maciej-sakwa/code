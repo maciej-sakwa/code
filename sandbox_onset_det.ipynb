{
 "cells": [
  {
   "cell_type": "code",
   "execution_count": 146,
   "metadata": {},
   "outputs": [],
   "source": [
    "import os\n",
    "\n",
    "import numpy as np\n",
    "import pandas as pd\n",
    "import matplotlib.pyplot as plt\n",
    "\n",
    "from pathlib import Path\n",
    "from tqdm.notebook import tqdm_notebook\n",
    "\n",
    "from src.onset_detection import OnsetDetection"
   ]
  },
  {
   "cell_type": "code",
   "execution_count": 147,
   "metadata": {},
   "outputs": [],
   "source": [
    "DATA_PATH = Path('./data/')\n",
    "\n",
    "df_description = pd.DataFrame()\n",
    "signals = None\n",
    "\n",
    "\n",
    "for i, path in enumerate(sorted(DATA_PATH.glob('*.data'))):\n",
    "    with open(path, 'rb') as file:\n",
    "        loaded = pd.read_pickle(file)\n",
    "\n",
    "        loaded_description = loaded[0]\n",
    "        loaded_description['class'] = i+1\n",
    "        loaded_signals = loaded[1]\n",
    "\n",
    "        df_description = pd.concat([df_description, loaded_description], ignore_index=True)\n",
    "        if signals is None: \n",
    "            signals = loaded_signals\n",
    "        else: \n",
    "            signals = np.concat([signals, loaded_signals])"
   ]
  },
  {
   "cell_type": "code",
   "execution_count": 148,
   "metadata": {},
   "outputs": [
    {
     "data": {
      "text/plain": [
       "(32008, 5120)"
      ]
     },
     "execution_count": 148,
     "metadata": {},
     "output_type": "execute_result"
    }
   ],
   "source": [
    "signals.shape"
   ]
  },
  {
   "cell_type": "code",
   "execution_count": 149,
   "metadata": {},
   "outputs": [],
   "source": [
    "# class OnsetDetection():\n",
    "#     def __init__(self, window_length=500, out_length=625, window_step=5, start_search=None, end_search=None, threshold=0.1, SNR=False, energy_gap=None) -> None:\n",
    "        \n",
    "#         self.out_length = out_length\n",
    "#         self.window_length = window_length\n",
    "\n",
    "#         self.threshold = threshold\n",
    "\n",
    "#         self.window_step = window_step\n",
    "#         self.search_start = start_search\n",
    "#         self.search_end = end_search\n",
    "        \n",
    "#         # Fill the params if not set\n",
    "#         if self.search_start is None:\n",
    "#             self.search_start = window_length\n",
    "#         if self.search_end is None:\n",
    "#             self.search_end = self.search_start * 3\n",
    "\n",
    "#         # Define the search range\n",
    "#         self.search_range = range(self.search_start, self.search_end, self.window_step)    \n",
    "\n",
    "#         # SNR picking\n",
    "#         self.SNR = SNR\n",
    "#         if SNR: \n",
    "#             if energy_gap is None: raise ValueError(f\"With SNR picking energy gap cannot be set to {energy_gap}\")\n",
    "#             else: self.energy_gap = energy_gap\n",
    "\n",
    "\n",
    "#     def _check_length(self, x):\n",
    "#         self.input_length = len(x)\n",
    "        \n",
    "#         if self.input_length <= self.out_length:\n",
    "#             raise ValueError(f'Input length cannot be smaller then output length and is: {self.input_length} and {self.out_length}')\n",
    "        \n",
    "#         if self.input_length <= self.window_length:\n",
    "#             raise ValueError(f'Input length cannot be smaller then the selected window size and is: {self.input_length} and {self.window_length}')\n",
    "        \n",
    "#         if self.input_length < self.search_end:\n",
    "#             raise ValueError(f'Input length cannot be smaller then the searched area and is: {self.input_length} and {self.search_end}')\n",
    "        \n",
    "#         return\n",
    "\n",
    "#     def _calculate_moment_6(self, x, moment_1, moment_2):\n",
    "        \n",
    "#         # Prealocation\n",
    "#         moment_6 = []\n",
    "\n",
    "#         # Loop through the windows in search range\n",
    "#         for n, i in enumerate(self.search_range): \n",
    "\n",
    "#             # Get the waveform piece of the window\n",
    "#             x_i = x[i-self.window_length:i]\n",
    "\n",
    "#             # Calculate the fraction nom and denom\n",
    "#             nom = np.sum((x_i - moment_1[n]) ** 6)\n",
    "#             denom = ((self.window_length - 1) * (moment_2[n] ** 3))\n",
    "\n",
    "#             moment_6.append(nom/denom - 15)\n",
    "\n",
    "#         return moment_6\n",
    "    \n",
    "\n",
    "#     def _first_positive_index(self, x, threshold=0):\n",
    "#         \"\"\"Finds the first index above threshold\"\"\"\n",
    "\n",
    "\n",
    "#         # Find where the values are positive\n",
    "#         positive_indices = np.where(x > threshold)[0]\n",
    "        \n",
    "#         # Check if there is any positive value\n",
    "#         if positive_indices.size == 0:\n",
    "#             return None  # or raise an exception, or return a specific value like -1\n",
    "        \n",
    "#         # Return the index of the first positive value\n",
    "#         return positive_indices[0]\n",
    "\n",
    "#     def __call__(self, x):\n",
    "        \n",
    "#         # Make sure the input is an array\n",
    "#         x = np.asarray(x).astype(int)\n",
    "\n",
    "#         # Check if the length is correct\n",
    "#         self._check_length(x)\n",
    "\n",
    "#         # Calculate statistical moments based on waveform pieces\n",
    "#         moment_1 = [np.mean(x[i-self.window_length:i], dtype=float) for i in self.search_range]\n",
    "#         moment_2 = [np.var(x[i-self.window_length:i], dtype=float) for i in self.search_range]\n",
    "#         moment_6 = self._calculate_moment_6(x, moment_1, moment_2)\n",
    "\n",
    "#         # Get the change rate (absolute)\n",
    "#         d_moment_6 = np.abs(np.gradient(moment_6))\n",
    "\n",
    "#         # Get threshold\n",
    "#         threshold = self.threshold * np.nanmax(d_moment_6)\n",
    "\n",
    "#         # Find the first index above threshold and adapt it to the search area\n",
    "#         onset_index = self._first_positive_index(d_moment_6, threshold)\n",
    "#         onset_index = onset_index*self.window_step + self.search_start\n",
    "\n",
    "#         # Short waveform\n",
    "#         out = x[onset_index:onset_index+self.out_length]\n",
    "\n",
    "#         # Signal to noise ratio picking\n",
    "#         if self.SNR:\n",
    "#             pass # TODO: finish the SNR picking\n",
    "\n",
    "\n",
    "#         return onset_index, out"
   ]
  },
  {
   "cell_type": "code",
   "execution_count": 150,
   "metadata": {},
   "outputs": [],
   "source": [
    "od = OnsetDetection(window_step=10)"
   ]
  },
  {
   "cell_type": "code",
   "execution_count": 151,
   "metadata": {},
   "outputs": [],
   "source": [
    "# fig, ax = plt.subplots(2, figsize=(10, 10))\n",
    "\n",
    "# sig = signals[200]\n",
    "\n",
    "# ind, short = od(sig)\n",
    "# threshold = od.threshold*np.nanmax(test)\n",
    "\n",
    "# ax[0].plot(range(od.search_start, od.search_end), sig[od.search_start: od.search_end])\n",
    "# #ax[0].plot(range(ind, ind+od.out_length), short)\n",
    "# ax[0].axvline(ind, c='r')\n",
    "\n",
    "# ax[1].plot(od.search_range, test)\n",
    "# ax[1].axhline(threshold, c='r', linestyle=':')\n"
   ]
  },
  {
   "cell_type": "code",
   "execution_count": 152,
   "metadata": {},
   "outputs": [
    {
     "data": {
      "application/vnd.jupyter.widget-view+json": {
       "model_id": "04c8422c6b4c42e7be9df4ab8c70b76e",
       "version_major": 2,
       "version_minor": 0
      },
      "text/plain": [
       "  0%|          | 0/32008 [00:00<?, ?it/s]"
      ]
     },
     "metadata": {},
     "output_type": "display_data"
    }
   ],
   "source": [
    "out_size = 512\n",
    "od = OnsetDetection(window_step=10, out_length=out_size)\n",
    "short_signals = np.empty((len(signals), 512))\n",
    "\n",
    "for i in tqdm_notebook(range(len(signals))):\n",
    "    \n",
    "\n",
    "    _, short_sig = od(signals[i])\n",
    "\n",
    "    short_signals[i, :] = short_sig"
   ]
  },
  {
   "cell_type": "code",
   "execution_count": 153,
   "metadata": {},
   "outputs": [
    {
     "data": {
      "text/plain": [
       "(32008, 512)"
      ]
     },
     "execution_count": 153,
     "metadata": {},
     "output_type": "execute_result"
    }
   ],
   "source": [
    "short_signals.shape"
   ]
  },
  {
   "cell_type": "code",
   "execution_count": 224,
   "metadata": {},
   "outputs": [
    {
     "data": {
      "text/plain": [
       "(129, 335)"
      ]
     },
     "execution_count": 224,
     "metadata": {},
     "output_type": "execute_result"
    },
    {
     "data": {
      "image/png": "[encoded data removed]",
      "text/plain": [
       "<Figure size 640x480 with 1 Axes>"
      ]
     },
     "metadata": {},
     "output_type": "display_data"
    }
   ],
   "source": [
    "from scipy.signal import ShortTimeFFT\n",
    "from scipy.signal.windows import gaussian\n",
    "\n",
    "# Step 1: Generate a sample signal\n",
    "signal = signals[16000]\n",
    "signal = signal / np.max(signal) \n",
    "\n",
    "fs = 4*1e9  # Sampling frequency\n",
    "t = np.arange(len(signal)) / fs  # Time vector\n",
    "\n",
    "w = gaussian(256, std=32, sym=True)  # symmetric Gaussian window\n",
    "\n",
    "# A sample signal: sum of two sine waves with different frequencies\n",
    "\n",
    "\n",
    "# Step 2: Compute the Short-Time Fourier Transform (STFT)\n",
    "STF = ShortTimeFFT(w, hop=16, fs=fs, scale_to='psd')\n",
    "Sx = STF.spectrogram(signal)\n",
    "\n",
    "Sx = 10 * np.log10(np.fmax(Sx, 1e-10))  # limit range to -40 dB\n",
    "\n",
    "im1 = plt.imshow(Sx[0:50, 50:150], origin='lower', cmap='jet')\n",
    "# # Step 3: Plot the STFT magnitude\n",
    "# plt.figure(figsize=(10, 6))\n",
    "# plt.pcolormesh(t, f, np.abs(Zxx), shading='gouraud')\n",
    "# plt.title('STFT Magnitude')\n",
    "# plt.ylabel('Frequency [Hz]')\n",
    "# plt.xlabel('Time [sec]')\n",
    "# plt.colorbar(label='Magnitude')\n",
    "# plt.show()\n",
    "\n",
    "Sx.shape"
   ]
  },
  {
   "cell_type": "code",
   "execution_count": 213,
   "metadata": {},
   "outputs": [
    {
     "data": {
      "text/plain": [
       "<matplotlib.image.AxesImage at 0x77bad9d79f60>"
      ]
     },
     "execution_count": 213,
     "metadata": {},
     "output_type": "execute_result"
    },
    {
     "data": {
      "image/png": "[encoded data removed]",
      "text/plain": [
       "<Figure size 640x480 with 1 Axes>"
      ]
     },
     "metadata": {},
     "output_type": "display_data"
    }
   ],
   "source": [
    "plt.imshow(short_signals[3000].reshape(16, 32))"
   ]
  },
  {
   "cell_type": "code",
   "execution_count": 178,
   "metadata": {},
   "outputs": [
    {
     "data": {
      "text/plain": [
       "np.float64(137.0934538115238)"
      ]
     },
     "execution_count": 178,
     "metadata": {},
     "output_type": "execute_result"
    }
   ],
   "source": [
    "np.std(short_signals[1])"
   ]
  },
  {
   "cell_type": "code",
   "execution_count": null,
   "metadata": {},
   "outputs": [],
   "source": []
  },
  {
   "cell_type": "code",
   "execution_count": 156,
   "metadata": {},
   "outputs": [
    {
     "data": {
      "text/plain": [
       "(129, 80)"
      ]
     },
     "execution_count": 156,
     "metadata": {},
     "output_type": "execute_result"
    }
   ],
   "source": [
    "np.abs(Zxx).shape"
   ]
  },
  {
   "cell_type": "code",
   "execution_count": 157,
   "metadata": {},
   "outputs": [
    {
     "data": {
      "text/plain": [
       "512"
      ]
     },
     "execution_count": 157,
     "metadata": {},
     "output_type": "execute_result"
    }
   ],
   "source": [
    "t.size"
   ]
  }
 ],
 "metadata": {
  "kernelspec": {
   "display_name": "test",
   "language": "python",
   "name": "python3"
  },
  "language_info": {
   "codemirror_mode": {
    "name": "ipython",
    "version": 3
   },
   "file_extension": ".py",
   "mimetype": "text/x-python",
   "name": "python",
   "nbconvert_exporter": "python",
   "pygments_lexer": "ipython3",
   "version": "3.10.14"
  }
 },
 "nbformat": 4,
 "nbformat_minor": 2
}
